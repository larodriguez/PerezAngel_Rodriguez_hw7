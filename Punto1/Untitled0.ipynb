{
 "metadata": {
  "name": "",
  "signature": "sha256:72cc118e44a56a285ce4a980ccda7a2e09de5237be7193013e92474c77d36017"
 },
 "nbformat": 3,
 "nbformat_minor": 0,
 "worksheets": [
  {
   "cells": [
    {
     "cell_type": "code",
     "collapsed": false,
     "input": [
      "import sys\n",
      "import matplotlib.gridspec as gridspec\n",
      "from mpl_toolkits.mplot3d import Axes3D\n",
      "from matplotlib import cm\n",
      "import matplotlib.pyplot as plt\n",
      "import numpy as np\n",
      "from mpl_toolkits.mplot3d.axes3d import Axes3D"
     ],
     "language": "python",
     "metadata": {},
     "outputs": [],
     "prompt_number": 2
    },
    {
     "cell_type": "code",
     "collapsed": false,
     "input": [
      "#definir arreglos para hacer una matriz 3d y poder graficar\n",
      "t_all = np.ones(121)\n",
      "x_all = np.ones(101)\n",
      "t_space = np.linspace(0,120,121)\n",
      "x_space = np.linspace(0,100,101)"
     ],
     "language": "python",
     "metadata": {},
     "outputs": [],
     "prompt_number": 3
    },
    {
     "cell_type": "code",
     "collapsed": false,
     "input": [
      "x = np.outer(t_all, x_space)\n",
      "t = np.outer(t_space, x_all)"
     ],
     "language": "python",
     "metadata": {},
     "outputs": [],
     "prompt_number": 4
    },
    {
     "cell_type": "code",
     "collapsed": false,
     "input": [
      "\n",
      "print t"
     ],
     "language": "python",
     "metadata": {},
     "outputs": [
      {
       "output_type": "stream",
       "stream": "stdout",
       "text": [
        "[[   0.    0.    0. ...,    0.    0.    0.]\n",
        " [   1.    1.    1. ...,    1.    1.    1.]\n",
        " [   2.    2.    2. ...,    2.    2.    2.]\n",
        " ..., \n",
        " [ 118.  118.  118. ...,  118.  118.  118.]\n",
        " [ 119.  119.  119. ...,  119.  119.  119.]\n",
        " [ 120.  120.  120. ...,  120.  120.  120.]]\n"
       ]
      }
     ],
     "prompt_number": 5
    },
    {
     "cell_type": "code",
     "collapsed": false,
     "input": [
      "print len(t)\n",
      "print len(x)"
     ],
     "language": "python",
     "metadata": {},
     "outputs": [
      {
       "output_type": "stream",
       "stream": "stdout",
       "text": [
        "121\n",
        "121\n"
       ]
      }
     ],
     "prompt_number": 6
    },
    {
     "cell_type": "code",
     "collapsed": false,
     "input": [],
     "language": "python",
     "metadata": {},
     "outputs": [],
     "prompt_number": 8
    },
    {
     "cell_type": "code",
     "collapsed": false,
     "input": [],
     "language": "python",
     "metadata": {},
     "outputs": []
    }
   ],
   "metadata": {}
  }
 ]
}