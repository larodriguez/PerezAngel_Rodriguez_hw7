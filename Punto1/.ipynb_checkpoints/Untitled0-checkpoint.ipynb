{
 "metadata": {
  "name": "",
  "signature": "sha256:7c43c6181f51c6c4195e9eed547cb137f8debe5293a1542033ff6839a2f4ef2d"
 },
 "nbformat": 3,
 "nbformat_minor": 0,
 "worksheets": []
}